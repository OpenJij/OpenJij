{
 "cells": [
  {
   "cell_type": "markdown",
   "metadata": {},
   "source": [
    "# ナップサック問題\n",
    "\n",
    "こちらでは、[Lucas, 2014, \"Ising formulations of many NP problems\"](https://doi.org/10.3389/fphy.2014.00005)の 5.2. Knapsack with Integer Weights を OpenJij と [JijModeling](https://www.ref.documentation.jijzept.com/jijmodeling/)、そして[JijModeling transpiler](https://www.ref.documentation.jijzept.com/jijmodeling-transpiler/) を用いて解く方法をご紹介します。\n",
    "\n",
    "## 概要: ナップサック問題とは\n",
    "\n",
    "ナップサック問題は、具体的には以下のような状況で最適解を求める問題です。\n",
    "最も有名なNP困難な整数計画問題の一つとして知られています。まずは具体例を考えてみましょう。\n",
    "\n",
    "### 具体例\n",
    "\n",
    "この問題の具体例として、以下のような物語を考えます。\n",
    "\n",
    "> ある探検家がある洞窟を探検していました。しばらく洞窟の中を歩いていると、思いがけなく複数の宝物を発見しました。\n",
    "\n",
    "||宝物A|宝物B|宝物C|宝物D|宝物E|宝物F|\n",
    "|---|---|---|---|---|---|---|\n",
    "|値段|$5000|$7000|$2000|$1000|$4000|$3000|\n",
    "|重さ|800g|1000g|600g|400g|500g|300g|\n",
    "\n",
    "> しかし探検家の手持ちの荷物の中で宝物を運べるような袋としては、残念ながら小さなナップサックしか持ち合わせていませんでした。\n",
    "> このナップサックには2kgの荷物しか入れることができません。探検家はこのナップサックに入れる宝物の価値をできるだけ高くしたいのですが、どの荷物を選べば最も効率的に宝物を持って帰ることができるでしょうか。\n",
    "\n",
    "### 問題の一般化\n",
    "\n",
    "この問題を一般化するには、ナップサックに入れる荷物$N$個の集合$\\{ 0, 1, \\dots, i, \\dots, N-1\\}$があり、各荷物が$i$をインデックスとして持っているものとして考えます。  \n",
    "ナップサックに入れる各荷物$i$のコストのリスト$\\bm{v}$と重さのリスト$\\bm{w}$を作ることで、問題を表現することができます。\n",
    "\n",
    "$$\n",
    "\\nonumber\n",
    "\\bm{v} = \\{v_0, v_1, \\dots, v_i, \\dots, v_{N-1}\\}\n",
    "$$\n",
    "\n",
    "$$\n",
    "\\nonumber\n",
    "\\bm{w} = \\{w_0, w_1, \\dots, w_i, \\dots, w_{N-1}\\}\n",
    "$$\n",
    "\n",
    "さらに$i$番目の荷物を選んだことを表すバイナリ変数を$x_i$としましょう。この変数は$i$をナップサックに入れるとき$x_i = 1$、入れないとき$x_i = 0$となるような変数です。最後にナップサックの最大容量を$W$とします。  \n",
    "最大化したいのは、ナップサックに入れる荷物の価値の合計です。よってこれを目的関数として表現しましょう。さらにナップサックの容量制限以下にしなければならない制約を考えると、ナップサック問題は以下のような数式で表現されます。\n",
    "\n",
    "$$\n",
    "\\max \\quad \\sum_{i=0}^{N-1} v_i x_i \\tag{1}\n",
    "$$\n",
    "\n",
    "$$\n",
    "\\mathrm{s.t.} \\quad \\sum_{i=0}^{N-1} w_i x_i \\leq W \\tag{2}\n",
    "$$\n",
    "\n",
    "$$\n",
    "x_i \\in \\{0, 1\\} \\quad (\\forall i \\in \\{0, 1, \\dots, N-1\\}) \\tag{3}\n",
    "$$"
   ]
  },
  {
   "cell_type": "markdown",
   "metadata": {},
   "source": [
    "## JijModelingによるモデル構築\n",
    "\n",
    "### 変数定義\n",
    "\n",
    "ナップサック問題で用いられている変数$\\bm{v}, \\bm{w}, N, W, x_i, i$を、以下のようにして定義しましょう。"
   ]
  },
  {
   "cell_type": "code",
   "execution_count": 1,
   "metadata": {},
   "outputs": [],
   "source": [
    "import jijmodeling as jm\n",
    "\n",
    "# define variables\n",
    "v = jm.Placeholder('v', ndim=1)\n",
    "w = jm.Placeholder('w', ndim=1)\n",
    "W = jm.Placeholder('W')\n",
    "N = v.len_at(0, latex=\"N\")\n",
    "x = jm.BinaryVar('x', shape=(N,))\n",
    "i = jm.Element('i', (0, N))"
   ]
  },
  {
   "cell_type": "markdown",
   "metadata": {},
   "source": [
    "`v = jm.Placeholder('v', ndim=1), w = jm.Placeholder('w', ndim=1)`でナップサックに入れる物の価値と重さを表現する一次元のリストを定義し、さらに`W = jm.Placeholder('W')`ではナップサックの容量制限を表す$W$を定義しています。\n",
    "`N=v.len_at(0, latex=\"N\")`のようにすることで、先ほど定義した`v`の要素数を取得しています。\n",
    "これを用いて、最適化に用いるバイナリ変数のリストを`x = jm.BinaryVar('x', shape=(N))`を定義します。\n",
    "最後の`i = jm.Element('i', (0, N))`により$0 \\leq i < N$を満たす$v_i, w_i, x_i$の添字を定義します。\n",
    "\n",
    "### 制約と目的関数の実装\n",
    "\n",
    "式(1), (2)を実装しましょう。"
   ]
  },
  {
   "cell_type": "code",
   "execution_count": 2,
   "metadata": {},
   "outputs": [],
   "source": [
    "# set problem\n",
    "problem = jm.Problem('Knapsack', sense=jm.ProblemSense.MAXIMIZE) \n",
    "# set constraint: less than the capacity\n",
    "problem += jm.Constraint(\"capacity\", jm.sum(i, w[i]*x[i]) <= W)\n",
    "# set objective function\n",
    "problem += jm.sum(i, v[i]*x[i])"
   ]
  },
  {
   "cell_type": "markdown",
   "metadata": {},
   "source": [
    "`jm.sum(i, ...)`のようにすることで、$\\sum_i$を実装することができます。\n",
    "`jm.Constraint(\"capacity\", ...)`のようにすることで、\"capacity\"という名の制約を設定しています。　　\n",
    "実装した数理モデルを、Jupyter Notebookで表示してみましょう。"
   ]
  },
  {
   "cell_type": "markdown",
   "metadata": {},
   "source": [
    "`Constraint(制約名, 制約式)`とすることで、制約式に適当な制約名を付与することができます。  \n",
    "実際に実装された数式をJupyter Notebookで表示してみましょう。"
   ]
  },
  {
   "cell_type": "code",
   "execution_count": 3,
   "metadata": {},
   "outputs": [
    {
     "data": {
      "text/latex": [
       "$$\\begin{array}{cccc}\\text{Problem:} & \\text{Knapsack} & & \\\\& & \\max \\quad \\displaystyle \\sum_{i = 0}^{N - 1} v_{i} \\cdot x_{i} & \\\\\\text{{s.t.}} & & & \\\\ & \\text{capacity} & \\displaystyle \\sum_{i = 0}^{N - 1} w_{i} \\cdot x_{i} \\leq W &  \\\\\\text{{where}} & & & \\\\& x & 1\\text{-dim binary variable}\\\\\\end{array}$$"
      ],
      "text/plain": [
       "<jijmodeling.Problem at 0x1b1d9a0>"
      ]
     },
     "execution_count": 3,
     "metadata": {},
     "output_type": "execute_result"
    }
   ],
   "source": [
    "problem"
   ]
  },
  {
   "cell_type": "markdown",
   "metadata": {},
   "source": [
    "### インスタンスの作成\n",
    "\n",
    "先程の冒険家の物語を、インスタンスとして設定しましょう。\n",
    "ただし物の価値は$1000で規格化、さらに物の重さも100gで規格化された値を用います。"
   ]
  },
  {
   "cell_type": "code",
   "execution_count": 4,
   "metadata": {},
   "outputs": [],
   "source": [
    "import numpy as np\n",
    "\n",
    "# set a list of values & weights \n",
    "inst_v = np.array([5, 7, 2, 1, 4, 3])\n",
    "inst_w = np.array([8, 10, 6, 4, 5, 3])\n",
    "# set maximum weight\n",
    "inst_W = 20\n",
    "instance_data = {'v': inst_v, 'w': inst_w, 'W': inst_W} "
   ]
  },
  {
   "cell_type": "markdown",
   "metadata": {},
   "source": [
    "### JijModeling + OMMXによるQUBOへの変換\n",
    "\n",
    "ここまで行われてきた実装は、全てJijModelingによるものでした。\n",
    "これを[PyQUBO](https://pyqubo.readthedocs.io/en/latest/)に変換することで、OpenJijはもちろん、他のソルバーを用いた組合せ最適化計算を行うことが可能になります。"
   ]
  },
  {
   "cell_type": "code",
   "execution_count": 5,
   "metadata": {},
   "outputs": [],
   "source": [
    "import ommx\n",
    "import ommx_openjij_adapter as adapter\n",
    "\n",
    "# Create an instance from the JijModeling problem\n",
    "instance = ommx.v1.Instance.from_jijmodeling(problem, instance_data)\n",
    "\n",
    "# Convert to QUBO using penalty method\n",
    "parametric_qubo = instance.uniform_penalty_method()\n",
    "qubo = parametric_qubo.with_parameters({\"color\": 1.0})"
   ]
  },
  {
   "cell_type": "markdown",
   "metadata": {},
   "source": [
    "### OpenJijによる最適化計算の実行\n",
    "\n",
    "今回はOpenJijのシミュレーテッド・アニーリングを用いて、最適化問題を解いてみましょう。"
   ]
  },
  {
   "cell_type": "code",
   "execution_count": 6,
   "metadata": {},
   "outputs": [],
   "source": [
    "# Solve with OpenJij\n",
    "samples = adapter.sample_qubo_sa(qubo, num_reads=100)\n",
    "sample_set = qubo.evaluate_samples(samples)"
   ]
  },
  {
   "cell_type": "markdown",
   "metadata": {},
   "source": [
    "`SASampler`を設定し、そのサンプラーに先程作成したQUBOモデルの`qubo`を入力することで、計算結果が得られます。\n",
    "\n",
    "### デコードと解の表示\n",
    "\n",
    "計算結果をデコードします。\n",
    "また実行可能解の名から目的関数値が最大のものを選び出してみましょう。"
   ]
  },
  {
   "cell_type": "code",
   "execution_count": 7,
   "metadata": {},
   "outputs": [
    {
     "name": "stdout",
     "output_type": "stream",
     "text": [
      "Indices of x == 1:  [1 4 5]\n",
      "Value of objective function:  14.0\n",
      "Value of constraint term:  0.0\n",
      "Total weight:  18\n"
     ]
    }
   ],
   "source": [
    "# Get the best sample\n",
    "best_sample = sample_set.best_sample\n",
    "x_values = best_sample.extract_decision_variables(\"x\")\n",
    "\n",
    "# Visualization code\n",
    "feasible_objectives = [sample.objective_value for sample in sample_set.samples if sample.is_feasible]\n",
    "if len(feasible_objectives) == 0:\n",
    "    print(\"No feasible solution found ...\")\n",
    "else:\n",
    "    node_colors = [-1] * instance_data[\"V\"]\n",
    "    cmap = plt.get_cmap(\"tab10\")\n",
    "    colors = [cmap(i) for i in range(instance_data[\"N\"])]\n",
    "    for v, n in x_values:\n",
    "        if n is not None:  # Only consider assigned values\n",
    "            node_colors[v] = colors[n]\n",
    "    nx.draw_networkx(inst_G, node_color=node_colors, with_labels=True)\n",
    "    plt.show()"
   ]
  },
  {
   "cell_type": "code",
   "execution_count": null,
   "metadata": {},
   "outputs": [],
   "source": []
  }
 ],
 "metadata": {
  "kernelspec": {
   "display_name": "Python 3 (ipykernel)",
   "language": "python",
   "name": "python3"
  },
  "language_info": {
   "codemirror_mode": {
    "name": "ipython",
    "version": 3
   },
   "file_extension": ".py",
   "mimetype": "text/x-python",
   "name": "python",
   "nbconvert_exporter": "python",
   "pygments_lexer": "ipython3",
   "version": "3.9.5"
  },
  "vscode": {
   "interpreter": {
    "hash": "5de874e2fc479b2d8c72d9b9d7199763e296392b542125e77f5cad711bb306ce"
   }
  }
 },
 "nbformat": 4,
 "nbformat_minor": 4
}
