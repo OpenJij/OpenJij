{
 "cells": [
  {
   "cell_type": "markdown",
   "metadata": {},
   "source": [
    "# 整数長ジョブシーケンス問題\n",
    "\n",
    "こちらでは、[Lucas, 2014, \"Ising formulations of many NP problems\"](https://doi.org/10.3389/fphy.2014.00005)の 6.3. Job Sequencing with Integer Lengths を OpenJij と [JijModeling](https://www.ref.documentation.jijzept.com/jijmodeling/)、そして[JijModeling transpiler](https://www.ref.documentation.jijzept.com/jijmodeling-transpiler/) を用いて解く方法をご紹介します。\n",
    "\n",
    "## 概要: 整数長ジョブシーケンス問題とは\n",
    "\n",
    "タスク1は実行するのに1時間、タスク2は実行に3時間、というように、整数の長さを持つタスクがいくつかあったとします。\n",
    "これらを複数の実行するコンピュータに配分するとき、偏りを作ることなくコンピュータの実行時間を分散させるにはどのような組合せがあるでしょうか、というのを考える問題です。\n",
    "\n",
    "### 具体例\n",
    "\n",
    "分かりやすくするために具体的に以下のような状況を考えてみましょう。 \n",
    "\n",
    "> ここに10個のタスクと3個のコンピュータがあります。10個の仕事の長さはそれぞれ$1, 2, \\dots, 10$とします。\n",
    "> これらのタスクをどのようにコンピュータに仕事を割り振れば仕事にかかる時間の最大値を最小化できるか考えます。\n",
    "> この場合、例えば1つ目のコンピュータには9, 10、2つ目には1, 2, 7, 8、3つ目には3, 4, 5, 6とするととなり、3つのコンピュータの実行時間の最大値は19となり、これが最適解です。\n",
    "\n",
    "![](../../../assets/integer_jobs_01.png)\n",
    "\n",
    "### 問題の一般化\n",
    "\n",
    "$N$個のタスク$\\{0, 1, \\dots, N-1\\}$と$M$個のコンピュータ$\\{0, 1, \\dots, M-1\\}$を考えましょう。各タスクの実行にかかる時間のリストを$\\bm{L} = \\{L_0, L_1, \\dots, L_{N-1}\\}$とします。\n",
    "$j$番目のコンピュータで実行される仕事の集合を$V_j$としたとき、コンピュータ$j$でタスクを終えるまでの時間は$A_j = \\sum_{i \\in V_j} L_i$となります。\n",
    "$i$番目のタスクをコンピュータ$j$で行うことを表すバイナリ変数を$x_{i, j}$とします。\n",
    "\n",
    "**制約: タスクはどれか1つのコンピュータで実行されなければならない**\n",
    "\n",
    "例えば、タスク3をコンピュータ1と2の両方で実行することは許されません。これを数式にすると\n",
    "\n",
    "$$\n",
    "\\sum_{j=0}^{M-1} x_{i, j} = 1 \\quad (\\forall i \\in \\{ 0, 1, \\dots, N-1 \\})\n",
    "\\tag{1}\n",
    "$$\n",
    "\n",
    "**目的関数: コンピュータ1の実行時間と他の実行時間の差を小さくする**\n",
    "\n",
    "コンピュータ1の実行時間を基準とし、それと他のコンピュータの実行時間の差を最小にすることを考えます。これにより実行時間のばらつきが抑えられ、タスクが分散されるようになります。\n",
    "\n",
    "$$\n",
    "\\min\\left\\{ \\sum_{j=1}^{M-1} (A_1 -A_j)^2\\right\\} \n",
    "\\tag{2}\n",
    "$$"
   ]
  },
  {
   "cell_type": "markdown",
   "metadata": {},
   "source": [
    "## JijModelingを用いた実装\n",
    "\n",
    "### 変数の定義\n",
    "\n",
    "式(1), (2)で用いられている変数を、以下のようにして定義しましょう。"
   ]
  },
  {
   "cell_type": "code",
   "execution_count": 1,
   "metadata": {},
   "outputs": [],
   "source": [
    "import jijmodeling as jm\n",
    "\n",
    "# defin variables\n",
    "L = jm.Placeholder(\"L\", ndim=1)\n",
    "N = L.len_at(0, latex=\"N\")\n",
    "M = jm.Placeholder(\"M\")\n",
    "x = jm.BinaryVar(\"x\", shape=(N, M))\n",
    "i = jm.Element(\"i\", belong_to=(0, N))\n",
    "j = jm.Element(\"j\", belong_to=(0, M))"
   ]
  },
  {
   "cell_type": "markdown",
   "metadata": {},
   "source": [
    "`L=jm.Placeholder('L', ndim=1)`でコンピュータに実行させるタスクの実行時間のリストを定義します。\n",
    "そのリストの長さを`N=L.len_at(0, latex=\"N\")`として定義します。`M`はコンピュータの台数、`x`はバイナリ変数です。\n",
    "最後に$x_{i, j}$のように、変数の添字として使うものを`i, j`として定義します。\n",
    "\n",
    "### 制約と目的関数の実装\n",
    "\n",
    "式(1), (2)を実装しましょう。"
   ]
  },
  {
   "cell_type": "code",
   "execution_count": 2,
   "metadata": {},
   "outputs": [],
   "source": [
    "# set problem\n",
    "problem = jm.Problem('Integer Jobs')\n",
    "# set constraint: job must be executed using a certain node\n",
    "problem += jm.Constraint('onehot', x[i, :].sum()==1, forall=i)\n",
    "# set objective function: minimize difference between node 0 and others\n",
    "problem += jm.sum((j, j!=0), jm.sum(i, L[i]*(x[i, 0]-x[i, j]))**2)"
   ]
  },
  {
   "cell_type": "markdown",
   "metadata": {},
   "source": [
    "`x[i, :].sum()`とすることで、$\\sum_j x_{i, j}$を簡潔に実装することができます。"
   ]
  },
  {
   "cell_type": "markdown",
   "metadata": {},
   "source": [
    "実装した数式をJupyter Notebookで表示してみましょう。"
   ]
  },
  {
   "cell_type": "code",
   "execution_count": 3,
   "metadata": {},
   "outputs": [
    {
     "data": {
      "text/latex": [
       "$$\\begin{array}{cccc}\\text{Problem:} & \\text{Integer Jobs} & & \\\\& & \\min \\quad \\displaystyle \\sum_{\\substack{j = 0\\\\j \\neq 0}}^{M - 1} \\left(\\left(\\sum_{i = 0}^{N - 1} L_{i} \\cdot \\left(x_{i, 0} - x_{i, j}\\right)\\right)^{2}\\right) & \\\\\\text{{s.t.}} & & & \\\\ & \\text{onehot} & \\displaystyle \\sum_{\\ast_{1} = 0}^{M - 1} x_{i, \\ast_{1}} = 1 & \\forall i \\in \\left\\{0,\\ldots,N - 1\\right\\} \\\\\\text{{where}} & & & \\\\& x & 2\\text{-dim binary variable}\\\\\\end{array}$$"
      ],
      "text/plain": [
       "<jijmodeling.Problem at 0x2663790>"
      ]
     },
     "execution_count": 3,
     "metadata": {},
     "output_type": "execute_result"
    }
   ],
   "source": [
    "problem"
   ]
  },
  {
   "cell_type": "markdown",
   "metadata": {},
   "source": [
    "### インスタンスの作成\n",
    "\n",
    "インスタンスを以下のようにします。"
   ]
  },
  {
   "cell_type": "code",
   "execution_count": 4,
   "metadata": {},
   "outputs": [],
   "source": [
    "# set a list of jobs\n",
    "inst_L = [1, 2, 3, 4, 5, 6, 7, 8, 9, 10]\n",
    "# set the number of Nodes\n",
    "inst_M = 3\n",
    "instance_data = {'L': inst_L, 'M': inst_M}"
   ]
  },
  {
   "cell_type": "markdown",
   "metadata": {},
   "source": [
    "先程の具体例と同様に、$\\{1, 2, \\dots, 10\\}$の10個のタスクを、3台のコンピュータに分散させる状況を考えます。"
   ]
  },
  {
   "cell_type": "markdown",
   "metadata": {},
   "source": [
    "### JijModeling + OMMXによるQUBOへの変換\n",
    "\n",
    "ここまで行われてきた実装は、全てJijModelingによるものでした。\n",
    "これを[PyQUBO](https://pyqubo.readthedocs.io/en/latest/)に変換することで、OpenJijはもちろん、他のソルバーを用いた組合せ最適化計算を行うことが可能になります。"
   ]
  },
  {
   "cell_type": "code",
   "execution_count": 5,
   "metadata": {},
   "outputs": [],
   "source": [
    "import ommx\n",
    "import ommx_openjij_adapter as adapter\n",
    "\n",
    "# Create an instance from the JijModeling problem\n",
    "instance = ommx.v1.Instance.from_jijmodeling(problem, instance_data)\n",
    "\n",
    "# Convert to QUBO using penalty method\n",
    "parametric_qubo = instance.uniform_penalty_method()\n",
    "qubo = parametric_qubo.with_parameters({\"color\": 1.0})"
   ]
  },
  {
   "cell_type": "markdown",
   "metadata": {},
   "source": [
    "### OpenJijによる最適化計算の実行\n",
    "\n",
    "今回はOpenJijのシミュレーテッド・アニーリングを用いて、最適化問題を解いてみましょう。"
   ]
  },
  {
   "cell_type": "code",
   "execution_count": 7,
   "metadata": {},
   "outputs": [],
   "source": [
    "# Solve with OpenJij\n",
    "samples = adapter.sample_qubo_sa(qubo, num_reads=100)\n",
    "sample_set = qubo.evaluate_samples(samples)"
   ]
  },
  {
   "cell_type": "markdown",
   "metadata": {},
   "source": [
    "`SASampler`を設定し、そのサンプラーに先程作成したQUBOモデルの`qubo`を入力することで、計算結果が得られます。\n",
    "\n",
    "### デコードと解の表示\n",
    "\n",
    "計算結果をデコードします。\n",
    "また実行可能解の中から目的関数値が最小のものを選び出してみましょう。"
   ]
  },
  {
   "cell_type": "markdown",
   "metadata": {},
   "source": [
    "このようにして得られた結果から、タスク実行が分散されている様子を見てみましょう。"
   ]
  },
  {
   "cell_type": "code",
   "execution_count": 12,
   "metadata": {},
   "outputs": [
    {
     "data": {
      "image/png": "[encoded data removed]",
      "text/plain": [
       "<Figure size 640x480 with 1 Axes>"
      ]
     },
     "metadata": {},
     "output_type": "display_data"
    }
   ],
   "source": [
    "# Get the best sample\n",
    "best_sample = sample_set.best_sample\n",
    "x_values = best_sample.extract_decision_variables(\"x\")\n",
    "\n",
    "# Visualization code\n",
    "feasible_objectives = [sample.objective_value for sample in sample_set.samples if sample.is_feasible]\n",
    "if len(feasible_objectives) == 0:\n",
    "    print(\"No feasible solution found ...\")\n",
    "else:\n",
    "    node_colors = [-1] * instance_data[\"V\"]\n",
    "    cmap = plt.get_cmap(\"tab10\")\n",
    "    colors = [cmap(i) for i in range(instance_data[\"N\"])]\n",
    "    for v, n in x_values:\n",
    "        if n is not None:  # Only consider assigned values\n",
    "            node_colors[v] = colors[n]\n",
    "    nx.draw_networkx(inst_G, node_color=node_colors, with_labels=True)\n",
    "    plt.show()"
   ]
  },
  {
   "cell_type": "markdown",
   "metadata": {},
   "source": [
    "3つのコンピュータの実行時間がほぼ均等な解が得られました。"
   ]
  },
  {
   "cell_type": "code",
   "execution_count": null,
   "metadata": {},
   "outputs": [],
   "source": []
  },
  {
   "cell_type": "markdown",
   "metadata": {},
   "source": []
  }
 ],
 "metadata": {
  "kernelspec": {
   "display_name": "Python 3 (ipykernel)",
   "language": "python",
   "name": "python3"
  },
  "language_info": {
   "codemirror_mode": {
    "name": "ipython",
    "version": 3
   },
   "file_extension": ".py",
   "mimetype": "text/x-python",
   "name": "python",
   "nbconvert_exporter": "python",
   "pygments_lexer": "ipython3",
   "version": "3.9.5"
  },
  "vscode": {
   "interpreter": {
    "hash": "5de874e2fc479b2d8c72d9b9d7199763e296392b542125e77f5cad711bb306ce"
   }
  }
 },
 "nbformat": 4,
 "nbformat_minor": 4
}
